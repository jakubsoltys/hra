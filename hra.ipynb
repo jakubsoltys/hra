{
  "nbformat": 4,
  "nbformat_minor": 0,
  "metadata": {
    "colab": {
      "provenance": [],
      "authorship_tag": "ABX9TyP18VvTH0IF7In8Kodkqrvh",
      "include_colab_link": true
    },
    "kernelspec": {
      "name": "python3",
      "display_name": "Python 3"
    },
    "language_info": {
      "name": "python"
    }
  },
  "cells": [
    {
      "cell_type": "markdown",
      "metadata": {
        "id": "view-in-github",
        "colab_type": "text"
      },
      "source": [
        "<a href=\"https://colab.research.google.com/github/jakubsoltys/hra/blob/main/hra.ipynb\" target=\"_parent\"><img src=\"https://colab.research.google.com/assets/colab-badge.svg\" alt=\"Open In Colab\"/></a>"
      ]
    },
    {
      "cell_type": "code",
      "execution_count": null,
      "metadata": {
        "id": "lraQU2npe6RS"
      },
      "outputs": [],
      "source": []
    },
    {
      "cell_type": "markdown",
      "source": [
        "# Tvorba hry\n",
        "Príbeh s dvoma možnosťami na konci 2. Po výbere sa vytvorí ďalšia časť príbehu.\n",
        "Vždy len jedna možnosť je správna.\n",
        "\n"
      ],
      "metadata": {
        "id": "X9EJvF4egCKG"
      }
    },
    {
      "cell_type": "code",
      "source": [
        "def cast_1():\n",
        "    print(\"Si mladý dobrodruh menom Erik, ktorý sa vydáva do Temného lesa hľadať legendárny artefakt.\")\n",
        "    print(\"Po hodine cesty prichádzaš na rozcestie. Môžeš ísť buď:\")\n",
        "    print(\"1. Vľavo - cesta vedie cez hmlu a počuť z nej podivné šepoty.\")\n",
        "    print(\"2. Vpravo - chodník je jasný, ale ticho je neprirodzené.\")\n",
        "\n",
        "    vyber = input(\"Kam sa vydáš? (1 alebo 2): \")\n",
        "\n",
        "    if vyber == \"2\":\n",
        "        print(\"\\nSprávne! Cesta je bezpečná a po chvíli prichádzaš k starej chatrči.\")\n",
        "        cast_2()\n",
        "    elif vyber == \"1\":\n",
        "        print(\"\\nZle! Z hmly sa vynoria tiene a ty si navždy stratený v lese. KONIEC.\")\n",
        "    else:\n",
        "        print(\"\\nZadaj platnú možnosť (1 alebo 2).\")\n",
        "        cast_1()\n",
        "\n",
        "def cast_2():\n",
        "    print(\"\\n(Časť 2)\")\n",
        "    print(\"Chatrč vyzerá opustene, ale dvere sú pootvorené. Vo vnútri môžeš nájsť stopu.\")\n",
        "    print(\"1. Vojdeš dnu a porozhliadneš sa.\")\n",
        "    print(\"2. Obídeš chatrč a preskúmaš okolie.\")\n",
        "\n",
        "    vyber = input(\"Čo spravíš? (1 alebo 2): \")\n",
        "\n",
        "    if vyber == \"1\":\n",
        "        print(\"\\nSprávne! Vo vnútri nájdeš starú mapu s cestou k artefaktu.\")\n",
        "        print(\"Príbeh pokračuje... 🗺️\")\n",
        "        # Môžeme pokračovať ďalšou časťou, ak chceš :)\n",
        "    elif vyber == \"2\":\n",
        "        print(\"\\nZle! Pošmykneš sa na mokrej tráve, udieraš si hlavu a strácaš vedomie. KONIEC.\")\n",
        "    else:\n",
        "        print(\"\\nZadaj platnú možnosť (1 alebo 2).\")\n",
        "        cast_2()\n",
        "\n",
        "cast_1()"
      ],
      "metadata": {
        "colab": {
          "base_uri": "https://localhost:8080/"
        },
        "id": "0PjlX86AhBbK",
        "outputId": "84c6df92-ab49-4e9a-b1d5-61fd52202144"
      },
      "execution_count": 1,
      "outputs": [
        {
          "output_type": "stream",
          "name": "stdout",
          "text": [
            "Si mladý dobrodruh menom Erik, ktorý sa vydáva do Temného lesa hľadať legendárny artefakt.\n",
            "Po hodine cesty prichádzaš na rozcestie. Môžeš ísť buď:\n",
            "1. Vľavo - cesta vedie cez hmlu a počuť z nej podivné šepoty.\n",
            "2. Vpravo - chodník je jasný, ale ticho je neprirodzené.\n",
            "Kam sa vydáš? (1 alebo 2): 1\n",
            "\n",
            "Zle! Z hmly sa vynoria tiene a ty si navždy stratený v lese. KONIEC.\n"
          ]
        }
      ]
    },
    {
      "cell_type": "markdown",
      "source": [],
      "metadata": {
        "id": "HuVGM4jZgYz3"
      }
    }
  ]
}