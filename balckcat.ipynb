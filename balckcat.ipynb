{
  "nbformat": 4,
  "nbformat_minor": 0,
  "metadata": {
    "colab": {
      "provenance": [],
      "authorship_tag": "ABX9TyPMGJRRrEitRIxNtw7ard21",
      "include_colab_link": true
    },
    "kernelspec": {
      "name": "python3",
      "display_name": "Python 3"
    },
    "language_info": {
      "name": "python"
    }
  },
  "cells": [
    {
      "cell_type": "markdown",
      "metadata": {
        "id": "view-in-github",
        "colab_type": "text"
      },
      "source": [
        "<a href=\"https://colab.research.google.com/github/jakubsoltys/hra/blob/main/balckcat.ipynb\" target=\"_parent\"><img src=\"https://colab.research.google.com/assets/colab-badge.svg\" alt=\"Open In Colab\"/></a>"
      ]
    },
    {
      "cell_type": "code",
      "execution_count": null,
      "metadata": {
        "id": "5s8Ke0rSu6a6"
      },
      "outputs": [],
      "source": [
        "\n",
        "\n"
      ]
    },
    {
      "cell_type": "code",
      "source": [
        "def final_level():\n",
        "    print(\"\\n🕯️ Level 10: The Cellar of Truth 🕯️\")\n",
        "    print(\"Prešiel si cez temnotu, šialenstvo aj krv. Teraz stojíš pred poslednou stenou v pivnici.\")\n",
        "    print(\"Za ňou je zakopaný hriech... a možno aj vykúpenie.\")\n",
        "    print(\"Zrazu sa objaví čierna mačka. Pozerá sa ti do očí. Mňaukne a sadne si na podivné miesto pri stene.\")\n",
        "    print(\"\\nMáš dve možnosti:\")\n",
        "    print(\"1. Priznať sa pred políciou, ktorá práve vchádza do domu.\")\n",
        "    print(\"2. Mlčať a dúfať, že ťa nikdy neodhalia.\")\n",
        "\n",
        "    choice = input(\"Tvoja voľba? (1 alebo 2): \")\n",
        "\n",
        "    if choice == \"1\":\n",
        "        print(\"\\n🕊️ Správne... alebo možno nie?\")\n",
        "        print(\"Priznáš sa. Tvoj hlas je pokojný. Polícia rozbije stenu a nájde mŕtvolu tvojej ženy.\")\n",
        "        print(\"A na jej hlave... čierna mačka. Prežila a priviedla ich k pravde.\")\n",
        "        print(\"Si zatknutý, no v očiach máš pokoj. Pravda ťa oslobodila. Aspoň tvoja duša.\")\n",
        "        print(\"\\n🎭 KONEC HRY – MORÁLNE VÍŤAZSTVO\")\n",
        "    elif choice == \"2\":\n",
        "        print(\"\\n👁️ Zle...\")\n",
        "        print(\"Polícia prehľadá dom. Chce už odísť... keď sa zrazu z pivnice ozve zlovestné mňauknutie.\")\n",
        "        print(\"Zarazení sa vrátia, rozbijú stenu a nájdu telo – a čiernu mačku.\")\n",
        "        print(\"Tvoje klamstvo ťa zničilo. Budeš súdený nie len zákonom, ale aj vlastným svedomím.\")\n",
        "        print(\"\\n🕳️ KONEC HRY – PADOL SI DO TMY\")\n",
        "    else:\n",
        "        print(\"\\nZadaj len 1 alebo 2.\")\n",
        "        final_level()\n",
        "\n",
        "final_level()"
      ],
      "metadata": {
        "colab": {
          "base_uri": "https://localhost:8080/"
        },
        "id": "VYPtUmcGvqN0",
        "outputId": "a8526e71-6f94-4f6c-8e1c-36e5aeb4aa1f"
      },
      "execution_count": null,
      "outputs": [
        {
          "output_type": "stream",
          "name": "stdout",
          "text": [
            "\n",
            "🕯️ Level 10: The Cellar of Truth 🕯️\n",
            "Prešiel si cez temnotu, šialenstvo aj krv. Teraz stojíš pred poslednou stenou v pivnici.\n",
            "Za ňou je zakopaný hriech... a možno aj vykúpenie.\n",
            "Zrazu sa objaví čierna mačka. Pozerá sa ti do očí. Mňaukne a sadne si na podivné miesto pri stene.\n",
            "\n",
            "Máš dve možnosti:\n",
            "1. Priznať sa pred políciou, ktorá práve vchádza do domu.\n",
            "2. Mlčať a dúfať, že ťa nikdy neodhalia.\n"
          ]
        }
      ]
    },
    {
      "cell_type": "markdown",
      "source": [],
      "metadata": {
        "id": "8sIfroBZvJLn"
      }
    }
  ]
}