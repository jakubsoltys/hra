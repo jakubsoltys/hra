{
  "nbformat": 4,
  "nbformat_minor": 0,
  "metadata": {
    "colab": {
      "provenance": [],
      "authorship_tag": "ABX9TyPwydMoidW+M6QYm6fmfdjl",
      "include_colab_link": true
    },
    "kernelspec": {
      "name": "python3",
      "display_name": "Python 3"
    },
    "language_info": {
      "name": "python"
    }
  },
  "cells": [
    {
      "cell_type": "markdown",
      "metadata": {
        "id": "view-in-github",
        "colab_type": "text"
      },
      "source": [
        "<a href=\"https://colab.research.google.com/github/jakubsoltys/hra/blob/main/balckcat.ipynb\" target=\"_parent\"><img src=\"https://colab.research.google.com/assets/colab-badge.svg\" alt=\"Open In Colab\"/></a>"
      ]
    },
    {
      "cell_type": "code",
      "execution_count": null,
      "metadata": {
        "id": "5s8Ke0rSu6a6"
      },
      "outputs": [],
      "source": [
        "\n",
        "\n"
      ]
    },
    {
      "cell_type": "code",
      "source": [
        "def black_cat_finale():\n",
        "    print(\"\\n🎭 FINAL LEVEL – 'The Final Scratch'\")\n",
        "    print(\"You descend into the old cellar, your heart thundering in your chest.\")\n",
        "    print(\"Ten days have passed since the 'incident'. You sealed the wall perfectly.\")\n",
        "    print(\"No one could know. No one *should* know.\")\n",
        "    print(\"Yet the cat — that damned black cat — mews from the shadows. Always watching.\")\n",
        "    print(\"\\nToday, the police arrive.\")\n",
        "    print(\"You calmly lead them around the house. Nothing suspicious.\")\n",
        "    print(\"But... one officer steps toward the cellar door.\")\n",
        "\n",
        "    input(\"\\nPress Enter to follow them into the cellar...\")\n",
        "\n",
        "    print(\"\\nIn the dim light, the cat leaps onto the bricked wall, letting out a deep, hollow wail.\")\n",
        "    print(\"The sound... not of a cat, but of a *soul* screaming from behind the bricks.\")\n",
        "\n",
        "    print(\"\\nYou are given a choice:\")\n",
        "\n",
        "    print(\"1. Confess before they discover the body.\")\n",
        "    print(\"2. Say nothing and hope they leave.\")\n",
        "\n",
        "    choice = input(\"Your choice (1 or 2): \")\n",
        "\n",
        "    if choice == \"1\":\n",
        "        print(\"\\nYou fall to your knees. The weight of your crime crushes you.\")\n",
        "        print(\"Tears flow. The officers are shocked — but grateful.\")\n",
        "        print(\"Justice will be served. And maybe... in prison... you’ll find peace.\")\n",
        "        print(\"\\n🕊️ GOOD ENDING – Redemption through truth.\")\n",
        "    elif choice == \"2\":\n",
        "        print(\"\\nThe officers hear the cry. They strike the wall.\")\n",
        "        print(\"Bricks crumble. A corpse falls out — your wife's remains.\")\n",
        "        print(\"The cat, trapped alive inside the wall, leaps free — eyes glowing red.\")\n",
        "        print(\"You are arrested. But your mind fractures. Laughter consumes you.\")\n",
        "        print(\"\\n🕳️ BAD ENDING – Madness swallows you.\")\n",
        "    else:\n",
        "        print(\"\\nInvalid choice. Try again.\")\n",
        "        black_cat_finale()\n",
        "\n",
        "black_cat_finale()"
      ],
      "metadata": {
        "colab": {
          "base_uri": "https://localhost:8080/"
        },
        "id": "VYPtUmcGvqN0",
        "outputId": "552fe20b-7054-4028-875f-d2d65375f737"
      },
      "execution_count": null,
      "outputs": [
        {
          "output_type": "stream",
          "name": "stdout",
          "text": [
            "\n",
            "🎭 FINAL LEVEL – 'The Final Scratch'\n",
            "You descend into the old cellar, your heart thundering in your chest.\n",
            "Ten days have passed since the 'incident'. You sealed the wall perfectly.\n",
            "No one could know. No one *should* know.\n",
            "Yet the cat — that damned black cat — mews from the shadows. Always watching.\n",
            "\n",
            "Today, the police arrive.\n",
            "You calmly lead them around the house. Nothing suspicious.\n",
            "But... one officer steps toward the cellar door.\n"
          ]
        }
      ]
    },
    {
      "cell_type": "markdown",
      "source": [],
      "metadata": {
        "id": "8sIfroBZvJLn"
      }
    }
  ]
}